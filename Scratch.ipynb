{
 "cells": [
  {
   "cell_type": "markdown",
   "metadata": {},
   "source": [
    "To do:\n",
    "\n",
    "- Parametrize gen_twisted_boundary over boundaries\n",
    "- Encode the notions of \"generator which transforms an\n",
    "existing list of boundaries\", \"generator which transforms\n",
    "another generator\"\n",
    "- Work directly with lists of boundaries. The only thing\n",
    "I ever do with them is apply transforms to all of them, or\n",
    "join adjacent ones with corresponding elements.\n",
    "- Refactor/rewrite 'concat' with meshes because I think it\n",
    "is scaling horribly. Perhaps have pre-allocated arrays that\n",
    "scale by a factor of 1.5 every time they need to be grown, or\n",
    "something.\n",
    "- Why do I get the weird zig-zag pattern on the triangles,\n",
    "despite larger numbers of them? Is it something in how I\n",
    "twist the frames? (Note that I always connect one diagonal\n",
    "on the boundaries - but I can choose the other. This might\n",
    "not matter, but I should understand why.)"
   ]
  },
  {
   "cell_type": "code",
   "execution_count": 1,
   "metadata": {},
   "outputs": [],
   "source": [
    "import stl.mesh\n",
    "import numpy\n",
    "import trimesh\n",
    "import random\n",
    "\n",
    "import meshutil\n",
    "import examples"
   ]
  },
  {
   "cell_type": "code",
   "execution_count": null,
   "metadata": {},
   "outputs": [],
   "source": [
    "#mesh = examples.ram_horn()\n",
    "#mesh = examples.twist()\n",
    "#mesh = examples.twist_nonlinear()\n",
    "#mesh = examples.twist_from_gen()\n",
    "#mesh = examples.twisty_torus(4000)"
   ]
  },
  {
   "cell_type": "code",
   "execution_count": null,
   "metadata": {},
   "outputs": [],
   "source": [
    "# for me to be able to nest this, gen_twisted_boundary has to\n",
    "# be parametrized over some other boundary (the way )\n",
    "gen = examples.gen_inc_y(examples.gen_twisted_boundary())\n",
    "mesh = gen2mesh(gen, 100, True)"
   ]
  },
  {
   "cell_type": "code",
   "execution_count": null,
   "metadata": {},
   "outputs": [],
   "source": [
    "# Work around some annoying-ass trimesh/threejs bug:\n",
    "wtf = meshutil.Transform().scale(0.1).translate(20,0,0)\n",
    "center = meshutil.Transform().translate(-0.5, -0.5, -0.5)\n",
    "base = meshutil.cube(open_xz=False).transform(center)\n",
    "base = base.transform(wtf)\n",
    "# to enable:\n",
    "mesh_out = mesh.concat(base)\n",
    "\n",
    "mesh_fname = \"twist_wtf.stl\"\n",
    "mesh_out.to_stl_mesh().save(mesh_fname)"
   ]
  },
  {
   "cell_type": "code",
   "execution_count": null,
   "metadata": {},
   "outputs": [],
   "source": [
    "# TODO: Just use the mesh data directly (no sense in saving & re-loading)\n",
    "m = trimesh.load_mesh(mesh_fname)\n",
    "#m.show()\n",
    "scene = trimesh.Scene([m])\n",
    "scene.show()"
   ]
  },
  {
   "cell_type": "code",
   "execution_count": null,
   "metadata": {},
   "outputs": [],
   "source": []
  }
 ],
 "metadata": {
  "kernelspec": {
   "display_name": "Python 3",
   "language": "python",
   "name": "python3"
  },
  "language_info": {
   "codemirror_mode": {
    "name": "ipython",
    "version": 3
   },
   "file_extension": ".py",
   "mimetype": "text/x-python",
   "name": "python",
   "nbconvert_exporter": "python",
   "pygments_lexer": "ipython3",
   "version": "3.6.8"
  }
 },
 "nbformat": 4,
 "nbformat_minor": 4
}
